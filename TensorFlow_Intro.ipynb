{
  "nbformat": 4,
  "nbformat_minor": 0,
  "metadata": {
    "colab": {
      "name": "TensorFlow_Intro.ipynb",
      "provenance": [],
      "collapsed_sections": [],
      "authorship_tag": "ABX9TyOsgbO702ZGBBgOydEz5vlk",
      "include_colab_link": true
    },
    "kernelspec": {
      "name": "python3",
      "display_name": "Python 3"
    },
    "language_info": {
      "name": "python"
    }
  },
  "cells": [
    {
      "cell_type": "markdown",
      "metadata": {
        "id": "view-in-github",
        "colab_type": "text"
      },
      "source": [
        "<a href=\"https://colab.research.google.com/github/OmkarKatkade/TensorFlow_Repo/blob/main/TensorFlow_Intro.ipynb\" target=\"_parent\"><img src=\"https://colab.research.google.com/assets/colab-badge.svg\" alt=\"Open In Colab\"/></a>"
      ]
    },
    {
      "cell_type": "markdown",
      "metadata": {
        "id": "RHi73-wNktUl"
      },
      "source": [
        "IMPORTING TENSORFLOW 2.0"
      ]
    },
    {
      "cell_type": "code",
      "metadata": {
        "id": "t5Q1y5N16P1y"
      },
      "source": [
        "%tensorflow_version 2.x\n",
        "import tensorflow as tf  # now import the tensorflow module\n",
        "print(tf.version)"
      ],
      "execution_count": null,
      "outputs": []
    },
    {
      "cell_type": "markdown",
      "metadata": {
        "id": "tyhoWu1Gk0_u"
      },
      "source": [
        "Tensors are generalized vectors and matrices ranked to their highest dimensions. Internally, TensorFlow represents tensors in n-dimensional arrays of base datatypes. Each tensors represnts a partially defined computation that will eventually produce a value.\n",
        "\n",
        "Each Tensor has a data type and shape associated with it.\n",
        "1. Data Type: float32, int32, string and others\n",
        "2. Shape: Represents no. of elements in each dimension."
      ]
    },
    {
      "cell_type": "code",
      "metadata": {
        "id": "xX3JmWLHOI9W"
      },
      "source": [
        "string = tf.Variable(\"This is a string\", tf.string)\n",
        "number = tf.Variable(324, tf.int16)\n",
        "floating = tf.Variable(3.21, tf.float32)\n",
        "\n",
        "print(string)\n",
        "print(number.dtype)\n",
        "print(floating.value)"
      ],
      "execution_count": null,
      "outputs": []
    },
    {
      "cell_type": "markdown",
      "metadata": {
        "id": "6vQo-I-Ca_Ki"
      },
      "source": [
        "Rank/Degree of tensor is the no.of dimensions involved in the tensor. Above created tensors have a rank 0 aka Scalar.\n",
        "Below are examples of rank 1 and rank 2 tensors. Also, shape represents the no.of elements in each dimension of the tensor."
      ]
    },
    {
      "cell_type": "code",
      "metadata": {
        "colab": {
          "base_uri": "https://localhost:8080/"
        },
        "id": "rDy7rFm8bRAo",
        "outputId": "d3a1c73e-f244-49e9-ea3b-4ce82955695f"
      },
      "source": [
        "rank1_tensor = tf.Variable([\"Omkar\",\"Katkade\"], tf.string)\n",
        "rank2_tensor = tf.Variable([[\"Omkar\",\"Katkade\",\"o\"], [\"Arun\",\"Katkade\",\"o\"], [\"Chatur\", \"Katkade\",\"o\"]], tf.string)\n",
        "print(tf.rank(rank1_tensor))\n",
        "print(rank2_tensor.shape)\n",
        "print(tf.rank(rank2_tensor))"
      ],
      "execution_count": 28,
      "outputs": [
        {
          "output_type": "stream",
          "text": [
            "tf.Tensor(1, shape=(), dtype=int32)\n",
            "(3, 3)\n",
            "tf.Tensor(2, shape=(), dtype=int32)\n"
          ],
          "name": "stdout"
        }
      ]
    },
    {
      "cell_type": "markdown",
      "metadata": {
        "id": "3Z-7SaPZj0Zk"
      },
      "source": [
        "RESHAPING TENSORS:"
      ]
    },
    {
      "cell_type": "code",
      "metadata": {
        "id": "MBQjWKvkj5Z6"
      },
      "source": [
        "tensor1 = tf.ones([1,2,3])\n",
        "tensor2 = tf.reshape(tensor1, [2,3,1])\n",
        "tensor3 = tf.reshape(tensor1, [3,-1])\n",
        "print(tensor1)\n",
        "print(tensor2)\n",
        "print(tensor3)"
      ],
      "execution_count": null,
      "outputs": []
    },
    {
      "cell_type": "markdown",
      "metadata": {
        "id": "jOTTyQDzrMVB"
      },
      "source": [
        "**SLICING THE TENSOR:**\n",
        "Below code is self-explanatory"
      ]
    },
    {
      "cell_type": "code",
      "metadata": {
        "colab": {
          "base_uri": "https://localhost:8080/"
        },
        "id": "xlzTQBEwrL8B",
        "outputId": "1f0d56c3-81a5-433f-b322-6859de9933fb"
      },
      "source": [
        "matrix = [ [1, 2, 3, 4, 5],\n",
        "           [6, 7, 8, 9, 10],\n",
        "           [11, 12, 13, 14, 15],\n",
        "           [16, 17, 18, 19, 20] ]\n",
        "\n",
        "tensor = tf.Variable(matrix, dtype=tf.int32) \n",
        "print(tensor.shape)\n",
        "print(tf.rank(tensor))"
      ],
      "execution_count": 31,
      "outputs": [
        {
          "output_type": "stream",
          "text": [
            "(4, 5)\n",
            "tf.Tensor(2, shape=(), dtype=int32)\n"
          ],
          "name": "stdout"
        }
      ]
    },
    {
      "cell_type": "code",
      "metadata": {
        "colab": {
          "base_uri": "https://localhost:8080/"
        },
        "id": "aFFVhLKTshuA",
        "outputId": "c1b0d2a8-1225-44ad-820b-f082158f3ff3"
      },
      "source": [
        "three = tensor[0, 2]\n",
        "row1 = tensor[0]\n",
        "col1 = tensor[:, 0]\n",
        "row2N4 = tensor[1::3]\n",
        "print(three)\n",
        "print(row1)\n",
        "print(col1)\n",
        "print(row2N4)"
      ],
      "execution_count": 32,
      "outputs": [
        {
          "output_type": "stream",
          "text": [
            "tf.Tensor(3, shape=(), dtype=int32)\n",
            "tf.Tensor([1 2 3 4 5], shape=(5,), dtype=int32)\n",
            "tf.Tensor([ 1  6 11 16], shape=(4,), dtype=int32)\n",
            "tf.Tensor([[ 6  7  8  9 10]], shape=(1, 5), dtype=int32)\n"
          ],
          "name": "stdout"
        }
      ]
    },
    {
      "cell_type": "markdown",
      "metadata": {
        "id": "KSX4BgmjtbHw"
      },
      "source": [
        "***Types of Tensors***\n",
        "\n",
        "These are the most used and we will talk more in depth about each as they are used.\n",
        "\n",
        "Variable\n",
        "Constant\n",
        "Placeholder\n",
        "SparseTensor\n",
        "With the execption of Variable all these tensors are immuttable, meaning their value may not change during execution."
      ]
    }
  ]
}